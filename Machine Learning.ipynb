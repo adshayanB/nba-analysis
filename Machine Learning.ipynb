{
 "cells": [
  {
   "cell_type": "markdown",
   "metadata": {},
   "source": [
    "Goal of the model is to predict points of the player for the next season!\n",
    "Which then predicts the top 20 best players of next season! ( we will use regular season data to accomedate for players who didnt make playoffs)\n",
    "\n",
    "#Models to try out:\n",
    "    1. Linear Regression\n",
    "    2. Ridge regression\n",
    "    3. Support vector regression\n",
    "    y =PTS/PPG\n",
    "    x= important features\n",
    "    \n",
    "    \n",
    " Train data organization:\n",
    "     does y need to be pts of next season?\n",
    "     \n",
    "     \n",
    "#Need to do \n",
    "     "
   ]
  }
 ],
 "metadata": {
  "kernelspec": {
   "display_name": "Python 3",
   "language": "python",
   "name": "python3"
  },
  "language_info": {
   "codemirror_mode": {
    "name": "ipython",
    "version": 3
   },
   "file_extension": ".py",
   "mimetype": "text/x-python",
   "name": "python",
   "nbconvert_exporter": "python",
   "pygments_lexer": "ipython3",
   "version": "3.7.6"
  }
 },
 "nbformat": 4,
 "nbformat_minor": 4
}
