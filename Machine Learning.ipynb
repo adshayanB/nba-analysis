{
 "cells": [
  {
   "cell_type": "markdown",
   "metadata": {},
   "source": [
    "Goal of the model is to predict points of the player for the next season!\n",
    "Which then predicts the top 20 best players of next season! ( we will use regular season data to accomedate for players who didnt make playoffs)\n",
    "\n",
    "#Models to try out:\n",
    "    1. Linear Regression\n",
    "    2. Ridge regression\n",
    "    3. Support vector regression\n",
    "    y =PTS/PPG\n",
    "    x= important features\n",
    "    \n",
    "    \n",
    " Train data organization:\n",
    "  use three to 4 years of nba data of high perfroming players of that year \n",
    "  train test 80 20 \n",
    "  \n",
    " \n",
    "  \n",
    "  To predict for the best 20 players of the next season we take the data of the best 50 players already in the league and predict (note we dont take the account of new draft players or any break out stars, due to it requires a variety of diffrent other factors that are hard to measure and predict, such as injuries playing times trades and etc) \n",
    "     "
   ]
  }
 ],
 "metadata": {
  "kernelspec": {
   "display_name": "Python 3",
   "language": "python",
   "name": "python3"
  },
  "language_info": {
   "codemirror_mode": {
    "name": "ipython",
    "version": 3
   },
   "file_extension": ".py",
   "mimetype": "text/x-python",
   "name": "python",
   "nbconvert_exporter": "python",
   "pygments_lexer": "ipython3",
   "version": "3.7.6"
  }
 },
 "nbformat": 4,
 "nbformat_minor": 4
}
