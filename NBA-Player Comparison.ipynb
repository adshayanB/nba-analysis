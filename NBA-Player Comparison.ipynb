{
 "cells": [
  {
   "cell_type": "markdown",
   "metadata": {},
   "source": [
    "# Modeling Player Data"
   ]
  },
  {
   "cell_type": "code",
   "execution_count": 2,
   "metadata": {},
   "outputs": [
    {
     "data": {
      "text/html": [
       "        <script type=\"text/javascript\">\n",
       "        window.PlotlyConfig = {MathJaxConfig: 'local'};\n",
       "        if (window.MathJax) {MathJax.Hub.Config({SVG: {font: \"STIX-Web\"}});}\n",
       "        if (typeof require !== 'undefined') {\n",
       "        require.undef(\"plotly\");\n",
       "        requirejs.config({\n",
       "            paths: {\n",
       "                'plotly': ['https://cdn.plot.ly/plotly-latest.min']\n",
       "            }\n",
       "        });\n",
       "        require(['plotly'], function(Plotly) {\n",
       "            window._Plotly = Plotly;\n",
       "        });\n",
       "        }\n",
       "        </script>\n",
       "        "
      ]
     },
     "metadata": {},
     "output_type": "display_data"
    }
   ],
   "source": [
    "#Import Requried Libraires\n",
    "from __future__ import print_function\n",
    "from ipywidgets import interact, interactive, fixed, interact_manual\n",
    "import ipywidgets as widgets\n",
    "import seaborn as sns\n",
    "\n",
    "\n",
    "import ipywidgets as ipw\n",
    "import numpy as np\n",
    "import pandas as pd\n",
    "from nba_api.stats.endpoints import playercareerstats\n",
    "from nba_api.stats.static import players\n",
    "\n",
    "import plotly as py\n",
    "import plotly.graph_objects as go\n",
    "import plotly.express as px\n",
    "import plotly.tools as tls\n",
    "from plotly.offline import iplot\n",
    "import matplotlib.pyplot as plt\n",
    "from bokeh.plotting import figure, output_notebook, show\n",
    "\n",
    "pd.options.display.max_columns = None\n",
    "py.offline.init_notebook_mode(connected=True)"
   ]
  },
  {
   "cell_type": "markdown",
   "metadata": {},
   "source": [
    "## Player Career Stats"
   ]
  },
  {
   "cell_type": "code",
   "execution_count": 3,
   "metadata": {
    "scrolled": false
   },
   "outputs": [
    {
     "data": {
      "application/vnd.jupyter.widget-view+json": {
       "model_id": "81168b67c150497baecc46ef04c86e5a",
       "version_major": 2,
       "version_minor": 0
      },
      "text/plain": [
       "interactive(children=(Text(value='LeBron James', description='PlayerName'), Dropdown(description='Stat', optio…"
      ]
     },
     "metadata": {},
     "output_type": "display_data"
    }
   ],
   "source": [
    "@interact(PlayerName='LeBron James',Stat=['PPG','APG','RPG', 'REB', 'AST', 'STL',\n",
    "       'BLK', 'TOV', 'PTS'])\n",
    "def player_query (PlayerName,Stat): \n",
    "    player_dict = players.get_players()\n",
    "   \n",
    "    for player in player_dict:\n",
    "        if player['full_name']==PlayerName:\n",
    "            player_data=player\n",
    "                        \n",
    "    \n",
    "    id = player_data['id']\n",
    "    career = playercareerstats.PlayerCareerStats(player_id=id).get_data_frames()[0]\n",
    "    career['PPG']=(career['PTS']/career['GP']).round(1)\n",
    "    career['APG']=(career['AST']/career['GP']).round(1)\n",
    "    career['RPG']=(career['REB']/career['GP']).round(1)\n",
    "    \n",
    "    fig=px.scatter(career,x='SEASON_ID',y=Stat,color='TEAM_ABBREVIATION')\n",
    "    fig.update_layout(xaxis_type='category')\n",
    "     \n",
    "    fig.update_layout(\n",
    "        title=PlayerName+ \"'s career \" + Stat ,\n",
    "        xaxis_title='Season',\n",
    "        yaxis_title=Stat,\n",
    "        legend_title='<b> Team </b>',\n",
    "        template=\"plotly_dark\",\n",
    "        width = 975,\n",
    "        \n",
    "    )\n",
    "    fig.show()\n",
    "    \n",
    "    for season in range(len(career)):\n",
    "        print(f'Season {season+1}:{Stat} - {career[Stat][season]}')\n",
    "\n",
    "   \n"
   ]
  },
  {
   "cell_type": "markdown",
   "metadata": {},
   "source": [
    "## Player All Time Stats"
   ]
  },
  {
   "cell_type": "code",
   "execution_count": 4,
   "metadata": {},
   "outputs": [
    {
     "data": {
      "application/vnd.jupyter.widget-view+json": {
       "model_id": "57e72eb1931d4d598b6c98b9f74c051d",
       "version_major": 2,
       "version_minor": 0
      },
      "text/plain": [
       "interactive(children=(Text(value='LeBron James', description='PlayerName'), Output()), _dom_classes=('widget-i…"
      ]
     },
     "metadata": {},
     "output_type": "display_data"
    }
   ],
   "source": [
    "@interact(PlayerName='LeBron James')#Stat=['GP','GP','MIN','FGM','FGA','FG3M','FG3A','FTM', 'FTA','OREB','REB','AST','STL','BLK','TOV','PF','PTS','FGPCT','FG3PCT','FTPCT','RPG','ASG','PPG'])\n",
    "def player_query (PlayerName): \n",
    "\n",
    "    player_dict = players.get_players()\n",
    "\n",
    "    for player in player_dict:\n",
    "         if player['full_name']==PlayerName:\n",
    "            player_data=player\n",
    "\n",
    "    id = player_data['id']\n",
    "    career = playercareerstats.PlayerCareerStats(player_id=id).get_data_frames()[0]\n",
    "    # Create a list of lists\n",
    "    list_of_lists = [\n",
    "        [PlayerName]\n",
    "    ]\n",
    "    # Create the DataFrame,'STL'\n",
    "    df = pd.DataFrame(list_of_lists, columns = ['Player Name'])\n",
    "    fields=['GP','GP','MIN','FGM','FGA','FG3M','FG3A','FTM','FTA','OREB','REB','AST','STL','BLK','TOV','PF','PTS']\n",
    "\n",
    "    for i in range(len(fields)):\n",
    "        df[fields[i]]=career[fields[i]].sum()\n",
    "        df[fields[i]]=df[fields[i]].astype(int)\n",
    "\n",
    "    df.insert(5, 'FGPCT', ((career['FGM'].sum()/career['FGA'].sum())*100).round(1))\n",
    "    df.insert(8, 'FG3PCT', ((career['FG3M'].sum()/career['FG3A'].sum())*100).round(1))\n",
    "    df.insert(11, 'FTPCT', ((career['FTM'].sum()/career['FTA'].sum())*100).round(1))\n",
    "    df.insert(14, 'RPG', (career['REB'].sum()/career['GP'].sum()).round(1))\n",
    "    df.insert(16,'ASG',(career['AST'].sum()/career['GP'].sum()).round(1))\n",
    "    df.insert(21,'PPG',(career['PTS'].sum()/career['GP'].sum()).round(1))\n",
    "    return df\n",
    "\n",
    "\n"
   ]
  },
  {
   "cell_type": "markdown",
   "metadata": {},
   "source": [
    "## Player Comparisons"
   ]
  },
  {
   "cell_type": "code",
   "execution_count": 6,
   "metadata": {},
   "outputs": [
    {
     "data": {
      "application/vnd.jupyter.widget-view+json": {
       "model_id": "965b3519a5a940eeb27c6461ce779e17",
       "version_major": 2,
       "version_minor": 0
      },
      "text/plain": [
       "interactive(children=(Text(value='LeBron James', description='PlayerName'), Text(value='Michael Jordan', descr…"
      ]
     },
     "metadata": {},
     "output_type": "display_data"
    }
   ],
   "source": [
    "@interact(PlayerName='LeBron James', PlayerName1='Michael Jordan')\n",
    "def player_query (PlayerName,PlayerName1): \n",
    "\n",
    "    player_dict = players.get_players()\n",
    "    player_data=[None]*2\n",
    "#Search For player\n",
    "    for player in player_dict:\n",
    "        if player['full_name']==PlayerName:\n",
    "            player_data[0]=player\n",
    "        elif player['full_name']==PlayerName1:\n",
    "            player_data[1]=player\n",
    "            \n",
    "    \n",
    "#Query for player\n",
    "    \n",
    "    career=[None]*2\n",
    "    for i in range(0,2):\n",
    "        career[i] = playercareerstats.PlayerCareerStats(player_id=player_data[i]['id']).get_data_frames()[0]\n",
    "\n",
    "    # Create a list of players\n",
    "    list_of_lists = [\n",
    "        [PlayerName],\n",
    "        [PlayerName1]\n",
    "    ]\n",
    "    # Create the DataFrame\n",
    "    data = pd.DataFrame(list_of_lists, columns = ['Player Name'])\n",
    "    fields=['GP','MIN','FGM','FGA','FG3M','FG3A','FTM','FTA','OREB','REB','AST','STL','BLK','TOV','PF','PTS']\n",
    "    for x in range(0,2):\n",
    "        for i in range(len(fields)):\n",
    "            data.at[x,fields[i]]=career[x][fields[i]].sum()\n",
    "    #Convert to int\n",
    "    for i in range(len(fields)):\n",
    "        data[fields[i]]=data[fields[i]].astype(int)\n",
    "    data.insert(5, 'FGPCT', None)\n",
    "    data.insert(8, 'FG3PCT',None)\n",
    "    data.insert(11, 'FTPCT',None)\n",
    "    data.insert(14, 'RPG',None)\n",
    "    data.insert(16,'APG',None)\n",
    "    data.insert(21,'PPG',None)\n",
    "    \n",
    "   \n",
    "    for x in range(0,2):\n",
    "        data.at[x, 'FGPCT']=(((career[x]['FGM'].sum()/career[x]['FGA'].sum())*100).round(1))\n",
    "        data.at[x,'FG3PCT']=(((career[x]['FG3M'].sum()/career[x]['FG3A'].sum())*100).round(1))\n",
    "        data.at[x,'FTPCT']=(((career[x]['FTM'].sum()/career[x]['FTA'].sum())*100).round(1))\n",
    "        data.at[x,'RPG']=((career[x]['REB'].sum()/career[x]['GP'].sum()).round(1))\n",
    "        data.at[x,'APG']=((career[x]['AST'].sum()/career[x]['GP'].sum()).round(1))\n",
    "        data.at[x,'PPG']=((career[x]['PTS'].sum()/career[x]['GP'].sum()).round(1))\n",
    "\n",
    "\n",
    "    return data.style.apply(highlight_max)\n",
    "\n",
    "def highlight_max(s): \n",
    "    is_max = s == s.max() \n",
    "    return ['background: lightgreen' if cell else '' for cell in is_max] \n",
    "\n",
    "#ADD COLOUR SLIDER FOR MORE PLAYERS"
   ]
  },
  {
   "cell_type": "code",
   "execution_count": 8,
   "metadata": {},
   "outputs": [
    {
     "data": {
      "application/vnd.jupyter.widget-view+json": {
       "model_id": "94dfec2bbb524254a6f62386a4d24f4c",
       "version_major": 2,
       "version_minor": 0
      },
      "text/plain": [
       "interactive(children=(Text(value='LeBron James', description='PlayerName'), Text(value='Michael Jordan', descr…"
      ]
     },
     "metadata": {},
     "output_type": "display_data"
    }
   ],
   "source": [
    "@interact(PlayerName='LeBron James', PlayerName1='Michael Jordan' ,Stat=['GP','MIN','FGM','FGA','FG3M','FG3A','FTM', 'FTA','OREB','REB','AST','APG','STL','BLK','TOV','PF','PTS','FGPCT','FG3PCT','FTPCT','RPG','ASG','PPG'])\n",
    "def player_query (PlayerName,PlayerName1,Stat): \n",
    "\n",
    "    player_dict = players.get_players()\n",
    "    player_data=[None]*2\n",
    "#Search For player\n",
    "    for player in player_dict:\n",
    "        if player['full_name']==PlayerName:\n",
    "            player_data[0]=player\n",
    "        elif player['full_name']==PlayerName1:\n",
    "            player_data[1]=player\n",
    "            \n",
    "    \n",
    "#Query for player\n",
    "    \n",
    "    career=[None]*2\n",
    "    for i in range(0,2):\n",
    "        career[i] = playercareerstats.PlayerCareerStats(player_id=player_data[i]['id']).get_data_frames()[0]\n",
    "    # Create a list of players\n",
    "    list_of_lists = [\n",
    "        [PlayerName],\n",
    "        [PlayerName1]\n",
    "    ]\n",
    "    # Create the DataFrame,'STL'\n",
    "    data = pd.DataFrame(list_of_lists, columns = ['Player Name'])\n",
    "    fields=['GP','MIN','FGM','FGA','FG3M','FG3A','FTM','FTA','OREB','REB','AST','STL','BLK','TOV','PF','PTS']\n",
    "    for x in range(0,2):\n",
    "        for i in range(len(fields)):\n",
    "            data.at[x,fields[i]]=career[x][fields[i]].sum()\n",
    "    #Convert to int\n",
    "    for i in range(len(fields)):\n",
    "        data[fields[i]]=data[fields[i]].astype(int)\n",
    "    data.insert(5, 'FGPCT', None)\n",
    "    data.insert(8, 'FG3PCT',None)\n",
    "    data.insert(11, 'FTPCT',None)\n",
    "    data.insert(14, 'RPG',None)\n",
    "    data.insert(16,'APG',None)\n",
    "    data.insert(21,'PPG',None)\n",
    "    \n",
    "   \n",
    "    for x in range(0,2):\n",
    "        data.at[x, 'FGPCT']=(((career[x]['FGM'].sum()/career[x]['FGA'].sum())*100).round(1))\n",
    "        data.at[x,'FG3PCT']=(((career[x]['FG3M'].sum()/career[x]['FG3A'].sum())*100).round(1))\n",
    "        data.at[x,'FTPCT']=(((career[x]['FTM'].sum()/career[x]['FTA'].sum())*100).round(1))\n",
    "        data.at[x,'RPG']=((career[x]['REB'].sum()/career[x]['GP'].sum()).round(1))\n",
    "        data.at[x,'APG']=((career[x]['AST'].sum()/career[x]['GP'].sum()).round(1))\n",
    "        data.at[x,'PPG']=((career[x]['PTS'].sum()/career[x]['GP'].sum()).round(1))\n",
    "    #print(data)\n",
    "    fig=px.bar(data,x='Player Name', y=Stat, color='Player Name', title=f'{Stat} Comparisons between {PlayerName} & {PlayerName1}')\n",
    "    fig.show()\n",
    "    "
   ]
  },
  {
   "cell_type": "code",
   "execution_count": null,
   "metadata": {},
   "outputs": [],
   "source": []
  },
  {
   "cell_type": "code",
   "execution_count": null,
   "metadata": {},
   "outputs": [],
   "source": []
  }
 ],
 "metadata": {
  "kernelspec": {
   "display_name": "Python 3",
   "language": "python",
   "name": "python3"
  },
  "language_info": {
   "codemirror_mode": {
    "name": "ipython",
    "version": 3
   },
   "file_extension": ".py",
   "mimetype": "text/x-python",
   "name": "python",
   "nbconvert_exporter": "python",
   "pygments_lexer": "ipython3",
   "version": "3.7.6"
  }
 },
 "nbformat": 4,
 "nbformat_minor": 4
}
