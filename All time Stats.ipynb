{
 "cells": [
  {
   "cell_type": "markdown",
   "metadata": {},
   "source": [
    "# Modeling Player Data"
   ]
  },
  {
   "cell_type": "code",
   "execution_count": 1,
   "metadata": {},
   "outputs": [
    {
     "data": {
      "text/html": [
       "        <script type=\"text/javascript\">\n",
       "        window.PlotlyConfig = {MathJaxConfig: 'local'};\n",
       "        if (window.MathJax) {MathJax.Hub.Config({SVG: {font: \"STIX-Web\"}});}\n",
       "        if (typeof require !== 'undefined') {\n",
       "        require.undef(\"plotly\");\n",
       "        requirejs.config({\n",
       "            paths: {\n",
       "                'plotly': ['https://cdn.plot.ly/plotly-latest.min']\n",
       "            }\n",
       "        });\n",
       "        require(['plotly'], function(Plotly) {\n",
       "            window._Plotly = Plotly;\n",
       "        });\n",
       "        }\n",
       "        </script>\n",
       "        "
      ]
     },
     "metadata": {},
     "output_type": "display_data"
    }
   ],
   "source": [
    "#Import Requried Libraires\n",
    "from __future__ import print_function\n",
    "from ipywidgets import interact, interactive, fixed, interact_manual\n",
    "import ipywidgets as widgets\n",
    "import seaborn as sns\n",
    "\n",
    "\n",
    "import ipywidgets as ipw\n",
    "import numpy as np\n",
    "import pandas as pd\n",
    "from nba_api.stats.endpoints import playercareerstats\n",
    "from nba_api.stats.static import players\n",
    "from nba_api.stats.endpoints import alltimeleadersgrids\n",
    "import plotly as py\n",
    "import plotly.graph_objects as go\n",
    "import plotly.express as px\n",
    "import plotly.tools as tls\n",
    "from plotly.offline import iplot\n",
    "import matplotlib.pyplot as plt\n",
    "from bokeh.plotting import figure, output_notebook, show\n",
    "\n",
    "pd.options.display.max_columns = None\n",
    "py.offline.init_notebook_mode(connected=True)"
   ]
  },
  {
   "cell_type": "code",
   "execution_count": 2,
   "metadata": {},
   "outputs": [
    {
     "data": {
      "application/vnd.jupyter.widget-view+json": {
       "model_id": "825b3c5b2c3c4c9da4d1a434ca4cdfa3",
       "version_major": 2,
       "version_minor": 0
      },
      "text/plain": [
       "interactive(children=(IntSlider(value=10, description='number', max=30, min=1), Dropdown(description='stat', o…"
      ]
     },
     "metadata": {},
     "output_type": "display_data"
    },
    {
     "data": {
      "text/plain": [
       "<function __main__.AllTimeLeaders(number, stat)>"
      ]
     },
     "execution_count": 2,
     "metadata": {},
     "output_type": "execute_result"
    }
   ],
   "source": [
    "def AllTimeLeaders (number,stat):\n",
    "    values={\n",
    "        'GP':0,\n",
    "        'PTS':1,\n",
    "        'AST':2,\n",
    "        'STL':3,\n",
    "        'OREB':4,\n",
    "        'DREB':5,\n",
    "        'REB':6,\n",
    "        'BLK':7,\n",
    "        'FGM':8,\n",
    "        'FGA':9,\n",
    "        'FG_PCT':10,\n",
    "        'TOV':11,\n",
    "        'FG3M':12, \n",
    "        'FG3A':13,\n",
    "        'FG3_PCT':14,\n",
    "        'PF':15,\n",
    "        'FTM':16, \n",
    "        'FTA':17, \n",
    "        'FT_PCT':18        \n",
    "    }\n",
    "    allTimeStat =alltimeleadersgrids.AllTimeLeadersGrids(topx=number).get_data_frames()[values[stat]]\n",
    "    del allTimeStat['PLAYER_ID']\n",
    "    allTimeStat.set_index(f'{stat}_RANK', inplace=True)\n",
    "    return allTimeStat\n",
    "\n",
    "interact(AllTimeLeaders, number=widgets.IntSlider(min=1, max=30, step=1, value=10),stat=['GP','PTS','AST','STL','OREB','DREB','REB','BLK','FGM','FGA','FG_PCT','TOV','FG3M','FG3A','FG3_PCT','PF','FTM','FTA','FT_PCT'])\n"
   ]
  },
  {
   "cell_type": "code",
   "execution_count": 5,
   "metadata": {},
   "outputs": [
    {
     "data": {
      "application/vnd.jupyter.widget-view+json": {
       "model_id": "60b89824e381422188dc6718ac41da75",
       "version_major": 2,
       "version_minor": 0
      },
      "text/plain": [
       "interactive(children=(IntSlider(value=10, description='number', max=30, min=1), Dropdown(description='stat', o…"
      ]
     },
     "metadata": {},
     "output_type": "display_data"
    },
    {
     "data": {
      "text/plain": [
       "<function __main__.AllTimeLeaders(number, stat)>"
      ]
     },
     "execution_count": 5,
     "metadata": {},
     "output_type": "execute_result"
    }
   ],
   "source": [
    "def AllTimeLeaders (number,stat):\n",
    "    values={\n",
    "        'GP':0,\n",
    "        'PTS':1,\n",
    "        'AST':2,\n",
    "        'STL':3,\n",
    "        'OREB':4,\n",
    "        'DREB':5,\n",
    "        'REB':6,\n",
    "        'BLK':7,\n",
    "        'FGM':8,\n",
    "        'FGA':9,\n",
    "        'FG_PCT':10,\n",
    "        'TOV':11,\n",
    "        'FG3M':12, \n",
    "        'FG3A':13,\n",
    "        'FG3_PCT':14,\n",
    "        'PF':15,\n",
    "        'FTM':16, \n",
    "        'FTA':17, \n",
    "        'FT_PCT':18        \n",
    "    }\n",
    "    allTimeStat =alltimeleadersgrids.AllTimeLeadersGrids(topx=number).get_data_frames()[values[stat]]\n",
    "    allTimeStat.set_index(f'{stat}_RANK', inplace=True)\n",
    "    fig=px.bar(allTimeStat,x='PLAYER_NAME', y=stat, color='PLAYER_NAME', title=f'Top {number} in {stat}')\n",
    "    fig.show()\n",
    "    #return allTimeStat\n",
    "\n",
    "interact(AllTimeLeaders, number=widgets.IntSlider(min=1, max=30, step=1, value=10),stat=['GP','PTS','AST','STL','OREB','DREB','REB','BLK','FGM','FGA','FG_PCT','TOV','FG3M','FG3A','FG3_PCT','PF','FTM','FTA','FT_PCT'])\n"
   ]
  },
  {
   "cell_type": "code",
   "execution_count": null,
   "metadata": {},
   "outputs": [],
   "source": []
  },
  {
   "cell_type": "code",
   "execution_count": null,
   "metadata": {},
   "outputs": [],
   "source": []
  }
 ],
 "metadata": {
  "kernelspec": {
   "display_name": "Python 3",
   "language": "python",
   "name": "python3"
  },
  "language_info": {
   "codemirror_mode": {
    "name": "ipython",
    "version": 3
   },
   "file_extension": ".py",
   "mimetype": "text/x-python",
   "name": "python",
   "nbconvert_exporter": "python",
   "pygments_lexer": "ipython3",
   "version": "3.7.6"
  }
 },
 "nbformat": 4,
 "nbformat_minor": 4
}
