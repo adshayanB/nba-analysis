{
 "cells": [
  {
   "cell_type": "markdown",
   "metadata": {},
   "source": [
    "# Importing Player Data"
   ]
  },
  {
   "cell_type": "code",
   "execution_count": 2,
   "metadata": {},
   "outputs": [
    {
     "data": {
      "text/html": [
       "        <script type=\"text/javascript\">\n",
       "        window.PlotlyConfig = {MathJaxConfig: 'local'};\n",
       "        if (window.MathJax) {MathJax.Hub.Config({SVG: {font: \"STIX-Web\"}});}\n",
       "        if (typeof require !== 'undefined') {\n",
       "        require.undef(\"plotly\");\n",
       "        requirejs.config({\n",
       "            paths: {\n",
       "                'plotly': ['https://cdn.plot.ly/plotly-latest.min']\n",
       "            }\n",
       "        });\n",
       "        require(['plotly'], function(Plotly) {\n",
       "            window._Plotly = Plotly;\n",
       "        });\n",
       "        }\n",
       "        </script>\n",
       "        "
      ]
     },
     "metadata": {},
     "output_type": "display_data"
    }
   ],
   "source": [
    "#Import Requried Libraires\n",
    "from __future__ import print_function\n",
    "from ipywidgets import interact, interactive, fixed, interact_manual\n",
    "import ipywidgets as widgets\n",
    "import seaborn as sns\n",
    "\n",
    "\n",
    "import ipywidgets as ipw\n",
    "import numpy as np\n",
    "import pandas as pd\n",
    "from nba_api.stats.endpoints import playercareerstats\n",
    "from nba_api.stats.static import players\n",
    "from nba_api.stats.static import teams\n",
    "from nba_api.stats.endpoints import teamhistoricalleaders\n",
    "\n",
    "import datetime\n",
    "now = datetime.datetime.now().year\n",
    "\n",
    "\n",
    "import plotly as py\n",
    "import plotly.graph_objects as go\n",
    "import plotly.express as px\n",
    "import plotly.tools as tls\n",
    "from plotly.offline import iplot\n",
    "import matplotlib.pyplot as plt\n",
    "from bokeh.plotting import figure, output_notebook, show\n",
    "from nba_api.stats.endpoints import teamgamelog\n",
    "\n",
    "\n",
    "pd.options.display.max_columns = None\n",
    "py.offline.init_notebook_mode(connected=True)"
   ]
  },
  {
   "cell_type": "markdown",
   "metadata": {},
   "source": [
    "# Team Data"
   ]
  },
  {
   "cell_type": "code",
   "execution_count": 5,
   "metadata": {},
   "outputs": [],
   "source": [
    "nbaTeams = teams.get_teams()"
   ]
  },
  {
   "cell_type": "markdown",
   "metadata": {},
   "source": [
    "# All time stats per team"
   ]
  },
  {
   "cell_type": "code",
   "execution_count": 8,
   "metadata": {},
   "outputs": [
    {
     "data": {
      "application/vnd.jupyter.widget-view+json": {
       "model_id": "3ac2d8db89214f918c718db2f17199fe",
       "version_major": 2,
       "version_minor": 0
      },
      "text/plain": [
       "interactive(children=(Dropdown(description='team', index=27, options=('Atlanta Hawks', 'Boston Celtics', 'Broo…"
      ]
     },
     "metadata": {},
     "output_type": "display_data"
    }
   ],
   "source": [
    "@interact(team=['Atlanta Hawks','Boston Celtics','Brooklyn Nets','Charlotte Hornets','Chicago Bulls','Cleveland Cavaliers','Dallas Mavericks','Denver Nuggets','Detroit Pistons','Golden State Warriors','Houston Rockets','Indiana Pacers','Los Angeles Clippers','Los Angeles Lakers','Memphis Grizzlies','Miami Heat','Milwaukee Bucks','Minnesota Timberwolves','New Orleans Pelicans','New York Knicks','Oklahoma City Thunder','Orlando Magic','Philadelphia 76ers','Phoenix Suns','Portland Trail Blazers','Sacramento Kings','San Antonio Spurs','Toronto Raptors','Utah Jazz','Washington Wizards'],year='2020')\n",
    "def teamHistory (team='Toronto Raptors'):\n",
    "    #populate a dictionary to store the id of each team\n",
    "    teamNames=['Atlanta Hawks','Boston Celtics','Cleveland Cavaliers','New Orleans Pelicans','Chicago Bulls','Dallas Mavericks','Denver Nuggets','Golden State Warriors','Houston Rockets','Los Angeles Clippers','Los Angeles Lakers','Miami Heat','Milwaukee Bucks','Minnesota Timberwolves','Brooklyn Nets','New York Knicks','Orlando Magic','Indiana Pacers','Philadelphia 76ers','Phoenix Suns','Portland Trail Blazers','Sacramento Kings','San Antonio Spurs','Oklahoma City Thunder','Toronto Raptors','Utah Jazz','Memphis Grizzlies','Washington Wizards','Detroit Pistons','Charlotte Hornets']\n",
    "    teamLookup={}\n",
    "    for i in range(len(teamNames)):\n",
    "        teamLookup[teamNames[i]]=i\n",
    "\n",
    "    data =teamhistoricalleaders.TeamHistoricalLeaders(season_id=20000+int(str(now)),team_id=nbaTeams[teamLookup[team]]['id']).get_data_frames()[0]\n",
    "    data=data[['PTS_PLAYER','PTS','AST_PLAYER','AST','REB_PERSON_ID','REB','BLK_PLAYER','BLK','STL_PLAYER','STL']]\n",
    "    return data\n",
    "\n",
    "\n",
    "\n"
   ]
  },
  {
   "cell_type": "code",
   "execution_count": 66,
   "metadata": {},
   "outputs": [
    {
     "data": {
      "application/vnd.jupyter.widget-view+json": {
       "model_id": "fb7c86e71532482fb44c16995849e2a5",
       "version_major": 2,
       "version_minor": 0
      },
      "text/plain": [
       "interactive(children=(Dropdown(description='team', index=27, options=('Atlanta Hawks', 'Boston Celtics', 'Broo…"
      ]
     },
     "metadata": {},
     "output_type": "display_data"
    }
   ],
   "source": [
    "@interact(team=['Atlanta Hawks','Boston Celtics','Brooklyn Nets','Charlotte Hornets','Chicago Bulls','Cleveland Cavaliers','Dallas Mavericks','Denver Nuggets','Detroit Pistons','Golden State Warriors','Houston Rockets','Indiana Pacers','Los Angeles Clippers','Los Angeles Lakers','Memphis Grizzlies','Miami Heat','Milwaukee Bucks','Minnesota Timberwolves','New Orleans Pelicans','New York Knicks','Oklahoma City Thunder','Orlando Magic','Philadelphia 76ers','Phoenix Suns','Portland Trail Blazers','Sacramento Kings','San Antonio Spurs','Toronto Raptors','Utah Jazz','Washington Wizards'],Season='2019-20',season_type=['Regular Season','Pre Season','Playoffs'])\n",
    "def teamWinLoss(team='Toronto Raptors', Season='2019-20',season_type='Regular'):\n",
    "    teamNames=['Atlanta Hawks','Boston Celtics','Cleveland Cavaliers','New Orleans Pelicans','Chicago Bulls','Dallas Mavericks','Denver Nuggets','Golden State Warriors','Houston Rockets','Los Angeles Clippers','Los Angeles Lakers','Miami Heat','Milwaukee Bucks','Minnesota Timberwolves','Brooklyn Nets','New York Knicks','Orlando Magic','Indiana Pacers','Philadelphia 76ers','Phoenix Suns','Portland Trail Blazers','Sacramento Kings','San Antonio Spurs','Oklahoma City Thunder','Toronto Raptors','Utah Jazz','Memphis Grizzlies','Washington Wizards','Detroit Pistons','Charlotte Hornets']\n",
    "    teamLookup={}\n",
    "    for i in range(len(teamNames)):\n",
    "        teamLookup[teamNames[i]]=i\n",
    "    df= teamgamelog.TeamGameLog(season=Season, team_id=nbaTeams[teamLookup[team]]['id'],season_type_all_star=season_type).get_data_frames()[0]\n",
    "    \n",
    "    \n",
    "    plotData = pd.DataFrame([['W',df['WL'].value_counts()['W']],['L',df['WL'].value_counts()['L']]], columns = ['Win/Loss','Number of Win/Losses'])\n",
    "\n",
    "                                          \n",
    "    fig=px.bar(plotData,x='Win/Loss',y='Number of Win/Losses',color='Win/Loss', title=f'Number of {season_type} wins & loses for the {team}')\n",
    "    fig.show()\n",
    "    \n",
    "\n",
    "    \n",
    "\n",
    "\n"
   ]
  },
  {
   "cell_type": "code",
   "execution_count": null,
   "metadata": {},
   "outputs": [],
   "source": []
  }
 ],
 "metadata": {
  "kernelspec": {
   "display_name": "Python 3",
   "language": "python",
   "name": "python3"
  },
  "language_info": {
   "codemirror_mode": {
    "name": "ipython",
    "version": 3
   },
   "file_extension": ".py",
   "mimetype": "text/x-python",
   "name": "python",
   "nbconvert_exporter": "python",
   "pygments_lexer": "ipython3",
   "version": "3.7.6"
  }
 },
 "nbformat": 4,
 "nbformat_minor": 4
}
